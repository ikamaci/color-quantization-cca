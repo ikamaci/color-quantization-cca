{
 "cells": [
  {
   "cell_type": "code",
   "execution_count": 4,
   "id": "293aad18-6eee-4ca8-91c8-93292122a374",
   "metadata": {},
   "outputs": [],
   "source": [
    "from PIL import Image\n",
    "import matplotlib.pyplot as plt\n",
    "import numpy as np\n",
    "import sys"
   ]
  },
  {
   "cell_type": "code",
   "execution_count": 5,
   "id": "3619a091-82df-4b66-a1a3-424ff94f5b64",
   "metadata": {},
   "outputs": [],
   "source": [
    "image = Image.open(\"demo4.png\")\n",
    "dataset = np.asarray(image)"
   ]
  },
  {
   "cell_type": "code",
   "execution_count": 6,
   "id": "2c8c5645-b772-4ca4-b0d8-2803f0bbe288",
   "metadata": {},
   "outputs": [],
   "source": [
    "def calculateCluster(dataPoint):\n",
    "    black = np.asarray([0,0,0])\n",
    "    white = np.asarray([255,255,255])\n",
    "    substractBlack= np.subtract(dataPoint, black)\n",
    "    differenceToBlack = np.linalg.norm(substractBlack)\n",
    "    substractWhite= np.subtract(dataPoint, white)\n",
    "    differenceToWhite = np.linalg.norm(substractWhite)\n",
    "    if differenceToBlack < differenceToWhite:\n",
    "        return black\n",
    "    else:\n",
    "        return white"
   ]
  },
  {
   "cell_type": "code",
   "execution_count": 7,
   "id": "e1cc8754-5e85-4e02-a041-34d59b926aeb",
   "metadata": {},
   "outputs": [],
   "source": [
    "def rgb2gray(rgb):\n",
    "\n",
    "    r, g, b = rgb[:,:,0], rgb[:,:,1], rgb[:,:,2]\n",
    "    gray = 0.2989 * r + 0.5870 * g + 0.1140 * b\n",
    "\n",
    "    return np.asarray(gray)"
   ]
  },
  {
   "cell_type": "code",
   "execution_count": null,
   "id": "f97e7295-0fe4-4340-bde8-c5915d20aa0a",
   "metadata": {},
   "outputs": [],
   "source": []
  },
  {
   "cell_type": "code",
   "execution_count": 8,
   "id": "a9b4fe7c-32a2-41c2-a2de-c5f5d855373e",
   "metadata": {},
   "outputs": [],
   "source": [
    "def generateImageFromMatrix(imageMatrix, file_name = 'my_result1.png'):\n",
    "    imgResult = Image.fromarray(imageMatrix.astype(np.uint8))\n",
    "    imgResult.save(file_name)"
   ]
  },
  {
   "cell_type": "code",
   "execution_count": 31,
   "id": "9a923ae4-ce16-4e71-b4a0-ac7f0b1830ec",
   "metadata": {},
   "outputs": [
    {
     "data": {
      "text/plain": [
       "(768, 1024, 3)"
      ]
     },
     "execution_count": 31,
     "metadata": {},
     "output_type": "execute_result"
    }
   ],
   "source": [
    "np.shape(dataset)"
   ]
  },
  {
   "cell_type": "code",
   "execution_count": 32,
   "id": "5d51fb33-cea4-4b2e-8adc-91b2097d333d",
   "metadata": {},
   "outputs": [
    {
     "data": {
      "text/plain": [
       "array([198, 200, 187], dtype=uint8)"
      ]
     },
     "execution_count": 32,
     "metadata": {},
     "output_type": "execute_result"
    }
   ],
   "source": [
    "dataset[21][56][:3]"
   ]
  },
  {
   "cell_type": "code",
   "execution_count": 11,
   "id": "591435ee-001f-40bf-b317-4ed38c6c21f1",
   "metadata": {},
   "outputs": [],
   "source": [
    "def toGray(data):\n",
    "    grayIm = np.zeros(np.shape(data))\n",
    "    for row in range(len(data)):\n",
    "        for column in range(len(data[row])):\n",
    "            greyIm[row][column] = rgb2gray(dataset[row][column][:])\n",
    "    return grayIm"
   ]
  },
  {
   "cell_type": "code",
   "execution_count": 12,
   "id": "ea870181-bfe1-4f95-9a92-7c12de731dab",
   "metadata": {},
   "outputs": [],
   "source": [
    "def rgb2Binary(data):\n",
    "    binaryData = np.zeros(np.shape(dataset))\n",
    "    for row in range(len(data)):\n",
    "        for column in range(len(data[row])):\n",
    "            binaryData[row][column] = calculateCluster(dataset[row][column][:])\n",
    "    return binaryData"
   ]
  },
  {
   "cell_type": "code",
   "execution_count": 34,
   "id": "de33e14b-2705-427b-b091-64e9afd283c0",
   "metadata": {},
   "outputs": [],
   "source": [
    "def gray2binary(data,threshold):\n",
    "    binaryData = np.zeros(np.shape(data))\n",
    "    for row in range(len(data)):\n",
    "        for column in range(len(data[row])):\n",
    "            binaryData[row][column] = 255 if data[row][column] > threshold else 0\n",
    "    return binaryData"
   ]
  },
  {
   "cell_type": "code",
   "execution_count": 40,
   "id": "2b0b4dd8-9285-40a0-8b6d-f2bc8487436c",
   "metadata": {},
   "outputs": [],
   "source": [
    "def inverse(data):\n",
    "    binaryData = np.zeros(np.shape(data))\n",
    "    for row in range(len(data)):\n",
    "        for column in range(len(data[row])):\n",
    "            binaryData[row][column] = 255 if data[row][column] == 0 else 0\n",
    "    return binaryData"
   ]
  },
  {
   "cell_type": "code",
   "execution_count": 41,
   "id": "c76b1696-8268-4115-a1a8-3fac25cf1945",
   "metadata": {},
   "outputs": [],
   "source": [
    "def gray2truncated(data,threshold):\n",
    "    binaryData = np.zeros(np.shape(dataset))\n",
    "    for row in range(len(data)):\n",
    "        for column in range(len(data[row])):\n",
    "            binaryData[row][column] = 255 if data[row][column] > threshold else data[row][column]\n",
    "    return binaryData"
   ]
  },
  {
   "cell_type": "code",
   "execution_count": 92,
   "id": "24fba828-9c15-4049-a529-16c3a7bc8c3e",
   "metadata": {},
   "outputs": [
    {
     "name": "stdout",
     "output_type": "stream",
     "text": [
      "(768, 1024)\n",
      "123.2804\n"
     ]
    }
   ],
   "source": [
    "print(np.shape(grayScale))\n",
    "print(grayScale[0][0])"
   ]
  },
  {
   "cell_type": "code",
   "execution_count": 87,
   "id": "e1326b0e-b708-495b-87a4-9d3bac69a1a9",
   "metadata": {},
   "outputs": [],
   "source": [
    "binaryData = toBinary(grayScale)\n",
    "generateImageFromMatrix(binaryData)"
   ]
  },
  {
   "cell_type": "code",
   "execution_count": 54,
   "id": "afd94f2c-558e-45b1-bfe9-7ff08d4de1da",
   "metadata": {},
   "outputs": [],
   "source": [
    "def connected_neigbours(dataBin):\n",
    "    enhanced = np.zeros((len(dataBin)+ 2, len(dataBin[0]) +2))\n",
    "    firstPass = np.zeros((len(dataBin)+ 2, len(dataBin[0]) +2))\n",
    "    enhanced[1:np.shape(dataBin)[0] +1,1:np.shape(dataBin)[1] +1] = dataBin\n",
    "    counter = 1;\n",
    "    black = 1\n",
    "    for row in range(1,len(enhanced)):\n",
    "        for column in range(1,len(enhanced[row])):\n",
    "            if(enhanced[row][column] == black):\n",
    "                find = False\n",
    "                if(enhanced[row][column-1] == black):\n",
    "                    find = True\n",
    "                if(enhanced[row-1][column-1] == black):\n",
    "                    \n",
    "                if (enhanced[row-1][column] == black):\n",
    "                if (enhanced[row-1][column+1] == black):\n",
    "                \n",
    "    "
   ]
  },
  {
   "cell_type": "code",
   "execution_count": 105,
   "id": "77447723-83c7-4003-9860-e121b86b78fb",
   "metadata": {},
   "outputs": [],
   "source": [
    "def erosion(dataNormal):\n",
    "    dataBin = inverse(dataNormal)\n",
    "    enhanced = np.zeros((len(dataBin)+ 2, len(dataBin[0]) +2))\n",
    "    result = dataBin[:]\n",
    "    firstPass = np.zeros((len(dataBin)+ 2, len(dataBin[0]) +2))\n",
    "    enhanced[1:np.shape(dataBin)[0] +1,1:np.shape(dataBin)[1] +1] = dataBin\n",
    "    counter = 1;\n",
    "    black = 0\n",
    "    white = 255\n",
    "    for row in range(1,len(enhanced)):\n",
    "        for column in range(1,len(enhanced[row])):\n",
    "            if(enhanced[row][column] == white):\n",
    "                if(enhanced[row][column-1] == white and enhanced[row][column+1] == white and enhanced[row-1][column] == white and enhanced[row+1][column] == white):\n",
    "                    result[row-1][column-1] = white\n",
    "                else:\n",
    "                    result[row-1][column-1] = black\n",
    "    return inverse(result)"
   ]
  },
  {
   "cell_type": "code",
   "execution_count": 80,
   "id": "4c509db0-572b-4164-b8d7-2fcb715057db",
   "metadata": {},
   "outputs": [],
   "source": [
    "def dilation(dataBin):\n",
    "    enhanced = np.zeros((len(dataBin)+ 2, len(dataBin[0]) +2))\n",
    "    result = dataBin[:]\n",
    "    firstPass = np.zeros((len(dataBin)+ 2, len(dataBin[0]) +2))\n",
    "    enhanced[1:np.shape(dataBin)[0] +1,1:np.shape(dataBin)[1] +1] = dataBin\n",
    "    counter = 1;\n",
    "    black = 0\n",
    "    white = 255\n",
    "    for row in range(1,len(enhanced)):\n",
    "        for column in range(1,len(enhanced[row])):\n",
    "            if(enhanced[row][column] == white):\n",
    "                if(enhanced[row][column-1] == white and enhanced[row][column+1] == white and enhanced[row-1][column] == white and enhanced[row+1][column] == white):\n",
    "                    result[row-1][column-1] = white\n",
    "                else:\n",
    "                    result[row-1][column-1] = black\n",
    "    return result"
   ]
  },
  {
   "cell_type": "code",
   "execution_count": 112,
   "id": "2782734e-ae64-4f0d-8bd3-179461d51aed",
   "metadata": {},
   "outputs": [],
   "source": [
    "grayScale = rgb2gray(dataset)\n",
    "binary = gray2binary(grayScale,100)\n",
    "inverseBinary = inverse(binary)\n",
    "generateImageFromMatrix(inverseBinary)"
   ]
  },
  {
   "cell_type": "code",
   "execution_count": 113,
   "id": "e5212195-9f5d-4493-bfbe-40f71ebb38ac",
   "metadata": {},
   "outputs": [],
   "source": [
    "erosed1 = erosion(binary)\n",
    "\n",
    "erosed2 = erosion(erosed1)\n",
    "#dilated = dilation(erosed2)\n",
    "#dilated2 = dilation(dilated)\n",
    "generateImageFromMatrix(grayScale, \"grayScale.png\")\n",
    "generateImageFromMatrix(erosed2, \"erosion2.png\")\n",
    "generateImageFromMatrix(binary, \"thresholding.png\")\n",
    "#generateImageFromMatrix(dilated, \"dilated.png\")"
   ]
  },
  {
   "cell_type": "code",
   "execution_count": 83,
   "id": "42ac1c8a-008a-442a-ae4e-0d91ae092a3d",
   "metadata": {},
   "outputs": [
    {
     "data": {
      "text/plain": [
       "array([[255., 255., 255., ..., 255., 255., 255.],\n",
       "       [255., 255., 255., ..., 255., 255., 255.],\n",
       "       [255., 255., 255., ..., 255., 255., 255.],\n",
       "       ...,\n",
       "       [255., 255., 255., ..., 255., 255., 255.],\n",
       "       [255., 255., 255., ..., 255., 255., 255.],\n",
       "       [255., 255., 255., ..., 255., 255., 255.]])"
      ]
     },
     "execution_count": 83,
     "metadata": {},
     "output_type": "execute_result"
    }
   ],
   "source": [
    "erosed"
   ]
  },
  {
   "cell_type": "code",
   "execution_count": 84,
   "id": "2acdc35b-2091-47d2-a0ee-c2fdd3dabdea",
   "metadata": {},
   "outputs": [
    {
     "ename": "TypeError",
     "evalue": "'numpy.ndarray' object is not callable",
     "output_type": "error",
     "traceback": [
      "\u001b[0;31m---------------------------------------------------------------------------\u001b[0m",
      "\u001b[0;31mTypeError\u001b[0m                                 Traceback (most recent call last)",
      "Cell \u001b[0;32mIn [84], line 1\u001b[0m\n\u001b[0;32m----> 1\u001b[0m erosed(erosed)\n",
      "\u001b[0;31mTypeError\u001b[0m: 'numpy.ndarray' object is not callable"
     ]
    }
   ],
   "source": [
    "erosed(erosed)"
   ]
  },
  {
   "cell_type": "code",
   "execution_count": null,
   "id": "307f01f0-1eb6-4bfd-91ac-bc1e47b7c2f2",
   "metadata": {},
   "outputs": [],
   "source": []
  }
 ],
 "metadata": {
  "kernelspec": {
   "display_name": "Python 3 (ipykernel)",
   "language": "python",
   "name": "python3"
  },
  "language_info": {
   "codemirror_mode": {
    "name": "ipython",
    "version": 3
   },
   "file_extension": ".py",
   "mimetype": "text/x-python",
   "name": "python",
   "nbconvert_exporter": "python",
   "pygments_lexer": "ipython3",
   "version": "3.8.10"
  }
 },
 "nbformat": 4,
 "nbformat_minor": 5
}
