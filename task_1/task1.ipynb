{
 "cells": [
  {
   "cell_type": "code",
   "execution_count": 66,
   "id": "4cff5982-945f-42cd-84eb-4d791d0e57ac",
   "metadata": {},
   "outputs": [],
   "source": [
    "from PIL import Image\n",
    "import matplotlib.pyplot as plt\n",
    "import numpy as np\n",
    "import sys\n",
    "\n",
    "image = Image.open(\"image01.jpeg\")\n",
    "#plt.imshow(im)\n",
    "#points = plt.ginput(3, show_clicks=True)\n",
    "points =[(655.5080645161289, 266.0161290322581), (182.52419354838707, 179.64516129032268), (453.9758064516128, 473.71774193548384)]"
   ]
  },
  {
   "cell_type": "code",
   "execution_count": 1,
   "id": "4f5f40f0-3732-4bbf-836b-824b6bb70393",
   "metadata": {},
   "outputs": [],
   "source": [
    "def rgb2lab ( inputColor ) :\n",
    "    num = 0\n",
    "    RGB = [0, 0, 0]\n",
    "    for value in inputColor :\n",
    "        value = float(value) / 255\n",
    "        if value > 0.04045 :\n",
    "            value = ( ( value + 0.055 ) / 1.055 ) ** 2.4\n",
    "        else :\n",
    "            value = value / 12.92\n",
    "\n",
    "        RGB[num] = value * 100\n",
    "        num = num + 1\n",
    "\n",
    "    XYZ = [0, 0, 0,]\n",
    "\n",
    "    X = RGB [0] * 0.4124 + RGB [1] * 0.3576 + RGB [2] * 0.1805\n",
    "    Y = RGB [0] * 0.2126 + RGB [1] * 0.7152 + RGB [2] * 0.0722\n",
    "    Z = RGB [0] * 0.0193 + RGB [1] * 0.1192 + RGB [2] * 0.9505\n",
    "    XYZ[ 0 ] = round( X, 4 )\n",
    "    XYZ[ 1 ] = round( Y, 4 )\n",
    "    XYZ[ 2 ] = round( Z, 4 )\n",
    "\n",
    "    XYZ[ 0 ] = float( XYZ[ 0 ] ) / 95.047         # ref_X =  95.047   Observer= 2°, Illuminant= D65\n",
    "    XYZ[ 1 ] = float( XYZ[ 1 ] ) / 100.0          # ref_Y = 100.000\n",
    "    XYZ[ 2 ] = float( XYZ[ 2 ] ) / 108.883        # ref_Z = 108.883\n",
    "\n",
    "    num = 0\n",
    "    for value in XYZ :\n",
    "        if value > 0.008856 :\n",
    "            value = value ** ( 0.3333333333333333 )\n",
    "        else :\n",
    "            value = ( 7.787 * value ) + ( 16 / 116 )\n",
    "\n",
    "        XYZ[num] = value\n",
    "        num = num + 1\n",
    "\n",
    "    Lab = [0, 0, 0]\n",
    "\n",
    "    L = ( 116 * XYZ[ 1 ] ) - 16\n",
    "    a = 500 * ( XYZ[ 0 ] - XYZ[ 1 ] )\n",
    "    b = 200 * ( XYZ[ 1 ] - XYZ[ 2 ] )\n",
    "\n",
    "    Lab [ 0 ] = round( L, 4 )\n",
    "    Lab [ 1 ] = round( a, 4 )\n",
    "    Lab [ 2 ] = round( b, 4 )\n",
    "\n",
    "    return Lab"
   ]
  },
  {
   "cell_type": "code",
   "execution_count": 2,
   "id": "5e3ecb9d-8e06-4e66-b161-ba228b913e05",
   "metadata": {},
   "outputs": [],
   "source": [
    "def plotValues(data, xAxis=[], xLabel=\"\", yLabel=\"\",title=\"\"):\n",
    "    plt.xlabel(xLabel)\n",
    "    plt.ylabel(yLabel) \n",
    "    plt.title(title) \n",
    "    if len(xAxis) > 0:\n",
    "        plt.plot(xAxis, data, '-ok')\n",
    "    else:\n",
    "        plt.plot(data, '-ok')"
   ]
  },
  {
   "cell_type": "code",
   "execution_count": 3,
   "id": "d7866e83-7c01-4d31-ab35-4536a87d8bc8",
   "metadata": {},
   "outputs": [],
   "source": [
    "def clusterize(centroids, data, k):\n",
    "    clusters = [ [] for i in range(k)]\n",
    "    labels = []\n",
    "    for dataPoint in data:\n",
    "        cluster_index=-1\n",
    "        distance = float('inf')\n",
    "        for c_index, cluster_center in enumerate(centroids):\n",
    "            #print(\"cluster center distance\", len(cluster_center))\n",
    "            distance_to_center = calculateDistance(cluster_center, dataPoint)\n",
    "            if distance_to_center < distance:\n",
    "                distance = distance_to_center\n",
    "                cluster_index = c_index\n",
    "        labels.append(cluster_index)\n",
    "        #clusters[cluster_index].append(np.array(dataPoint))\n",
    "    return labels    "
   ]
  },
  {
   "cell_type": "code",
   "execution_count": 4,
   "id": "89fd056d-1988-4931-9552-f183d200ade0",
   "metadata": {},
   "outputs": [],
   "source": [
    "def calculateDistance(pointA, pointB):\n",
    "    #if len(pointA) != len(pointB):\n",
    "        #print(len(pointA),len(pointB))\n",
    "    substract= np.subtract(pointA, pointB)\n",
    "    return np.linalg.norm(substract)"
   ]
  },
  {
   "cell_type": "code",
   "execution_count": 5,
   "id": "31ccc196-5900-4e36-adb2-b9040a472a4f",
   "metadata": {},
   "outputs": [],
   "source": [
    "def calculateCentroids(labels,data,k):\n",
    "    #print(len(labels),len(data))\n",
    "    clusters = [[] for i in range(k)]\n",
    "    #print(\"clusters\",len(clusters))\n",
    "    for index,point in enumerate(data):\n",
    "        clusterIndex = int(labels[index])\n",
    "        clusters[clusterIndex].append(np.array(point))\n",
    "    #print(np.shape(clusters[0]), np.shape(clusters[1]))\n",
    "    newCentroids = []\n",
    "    for cluster in clusters:\n",
    "        clusterCenter = np.mean(cluster,axis=0)\n",
    "        #print(\"cluster\",len(cluster), np.shape(np.asarray(clusterCenter)))\n",
    "        newCentroids.append(clusterCenter)\n",
    "    return newCentroids, clusters    "
   ]
  },
  {
   "cell_type": "code",
   "execution_count": 57,
   "id": "c751097c-0870-41d7-ad6f-e242b2363353",
   "metadata": {
    "tags": []
   },
   "outputs": [],
   "source": [
    "def kMeans(kValue, data, initial_centroids):\n",
    "    lossValues = []\n",
    "    labels = clusterize(initial_centroids, data, kValue)\n",
    "    newCentroids = initial_centroids\n",
    "    stop= False\n",
    "    previousLoss = float('inf')\n",
    "    iteration = 0\n",
    "    thresold = 0.0001\n",
    "    while not stop:\n",
    "        iteration += 1\n",
    "        print(iteration)\n",
    "        newCentroids, clusters = calculateCentroids(labels,data,kValue)\n",
    "        #print(\"newCentroids\")\n",
    "        #print(newCentroids)\n",
    "        labels = clusterize(newCentroids, data, kValue)\n",
    "        currentLoss = 0\n",
    "        for c in clusters:\n",
    "            clusterVar = clusterVariance(c)\n",
    "            currentLoss += clusterVar\n",
    "        if(((previousLoss - currentLoss)/currentLoss) < thresold):\n",
    "            stop = True\n",
    "        lossValues.append(currentLoss)\n",
    "        previousLoss = currentLoss\n",
    "    return labels, newCentroids, lossValues"
   ]
  },
  {
   "cell_type": "code",
   "execution_count": 7,
   "id": "d24e78cb-507a-4cf1-8a28-df7411707833",
   "metadata": {},
   "outputs": [],
   "source": [
    "def clusterVariance(data):\n",
    "    center = np.mean(data,axis=0)\n",
    "    variance = 0\n",
    "    for dataPoint in data:\n",
    "        distanceSquare = np.square(calculateDistance(dataPoint, center))\n",
    "        variance += distanceSquare\n",
    "    return variance"
   ]
  },
  {
   "cell_type": "code",
   "execution_count": 8,
   "id": "460815d5-991e-4df4-ba3a-1c4dc657e941",
   "metadata": {
    "tags": []
   },
   "outputs": [],
   "source": [
    "def generateRandomCenters(k=2):\n",
    "    centers = []\n",
    "    for i in range(k):\n",
    "        centers.append([np.random.uniform(250) for i in range(3)])\n",
    "    return centers"
   ]
  },
  {
   "cell_type": "code",
   "execution_count": 22,
   "id": "3db863ef-5708-4b19-8052-4c9507bcc0d2",
   "metadata": {},
   "outputs": [],
   "source": [
    "def constructImageMatrix(labels, centroids, shape):\n",
    "    resultNormalized = []\n",
    "    for label in labels:\n",
    "        resultNormalized.append(np.asarray(centroids[label]))\n",
    "    return np.asarray(resultNormalized).reshape(shape)\n",
    "    '''\n",
    "    imageMatrix = []\n",
    "    for i in shape[0]:\n",
    "        matrixRow = []\n",
    "        for y in shape[1]:\n",
    "            normalizedIndex = (i*shape[1]) + j\n",
    "            color = labels[normalizedIndex]\n",
    "            matrixRow.append(np.asarray())\n",
    "    '''"
   ]
  },
  {
   "cell_type": "code",
   "execution_count": 42,
   "id": "edac34fd-da9e-4751-872f-ea81e1f9bbbb",
   "metadata": {},
   "outputs": [],
   "source": [
    "def generateImageFromMatrix(imageMatrix, file_name = 'my_result.jpeg'):\n",
    "    imgResult = Image.fromarray(imageMatrix.astype(np.uint8), 'RGB')\n",
    "    imgResult.save(file_name)"
   ]
  },
  {
   "cell_type": "code",
   "execution_count": null,
   "id": "e4990954-5c59-430d-91f5-6678d8bbb444",
   "metadata": {},
   "outputs": [],
   "source": []
  },
  {
   "cell_type": "code",
   "execution_count": null,
   "id": "f733a667-9ca9-4b2d-b057-1aa19adf6a0b",
   "metadata": {},
   "outputs": [],
   "source": []
  },
  {
   "cell_type": "code",
   "execution_count": 61,
   "id": "70a1f5f5-775c-4d69-8b1d-6402b09ac441",
   "metadata": {},
   "outputs": [],
   "source": [
    "def kMeansRun(dataset, k, outfileName):\n",
    "    dataNormalized = dataset.reshape((len(dataset)*len(dataset[0])),3)\n",
    "    initial_centroids = generateRandomCenters(k)\n",
    "    resultLabels, resultCentroids, lossValues = kMeans(k,dataNormalized, initial_centroids)\n",
    "    imageMatrix = constructImageMatrix(resultLabels, resultCentroids, np.shape(dataset))\n",
    "    generateImageFromMatrix(imageMatrix, file_name=\"k = \"+str(k)+\" quantized.jpeg\")\n",
    "    return resultLabels, lossValues"
   ]
  },
  {
   "cell_type": "code",
   "execution_count": 62,
   "id": "94889a81-d2bc-4f5a-938c-6189d219a173",
   "metadata": {},
   "outputs": [
    {
     "name": "stdout",
     "output_type": "stream",
     "text": [
      "1\n"
     ]
    },
    {
     "name": "stderr",
     "output_type": "stream",
     "text": [
      "/home/kmc/.local/lib/python3.8/site-packages/numpy/core/fromnumeric.py:3432: RuntimeWarning: Mean of empty slice.\n",
      "  return _methods._mean(a, axis=axis, dtype=dtype,\n",
      "/home/kmc/.local/lib/python3.8/site-packages/numpy/core/_methods.py:190: RuntimeWarning: invalid value encountered in double_scalars\n",
      "  ret = ret.dtype.type(ret / rcount)\n"
     ]
    },
    {
     "name": "stdout",
     "output_type": "stream",
     "text": [
      "2\n",
      "3\n",
      "4\n",
      "5\n",
      "6\n",
      "7\n",
      "8\n",
      "9\n",
      "10\n"
     ]
    }
   ],
   "source": [
    "resultingLabels, lossData = kMeansRun(dataset, k=16,outfileName=\"4quantized\")"
   ]
  },
  {
   "cell_type": "code",
   "execution_count": 31,
   "id": "dbe7d9ae-41ac-4919-9fa1-57dd4f3ee617",
   "metadata": {},
   "outputs": [],
   "source": [
    "dataset = np.asarray(image)\n",
    "k = 2"
   ]
  },
  {
   "cell_type": "code",
   "execution_count": 10,
   "id": "70dc0335-acd7-4aaa-8524-c2015e8b5725",
   "metadata": {},
   "outputs": [
    {
     "name": "stdout",
     "output_type": "stream",
     "text": [
      "(520200, 3)\n",
      "(2, 3)\n"
     ]
    }
   ],
   "source": [
    "dataNormalized = dataset.reshape((len(dataset)*len(dataset[0])),3)\n",
    "initial_centroids = generateRandomCenters(k) \n",
    "print(np.shape(dataNormalized))\n",
    "print(np.shape(initial_centroids))"
   ]
  },
  {
   "cell_type": "code",
   "execution_count": 11,
   "id": "3f6f1ce3-2b17-4d48-b95d-0d6233658fbc",
   "metadata": {},
   "outputs": [
    {
     "name": "stdout",
     "output_type": "stream",
     "text": [
      "1\n",
      "2\n",
      "3\n",
      "4\n",
      "5\n",
      "6\n",
      "7\n",
      "8\n"
     ]
    }
   ],
   "source": [
    "resultLabels, resultCentroids, lossValues = kMeans(k,dataNormalized, initial_centroids)"
   ]
  },
  {
   "cell_type": "code",
   "execution_count": 175,
   "id": "87f6da3c-9c37-408c-bdaf-c27e68d5b5de",
   "metadata": {},
   "outputs": [
    {
     "data": {
      "image/png": "[encoded data removed]",
      "text/plain": [
       "<Figure size 640x480 with 1 Axes>"
      ]
     },
     "metadata": {},
     "output_type": "display_data"
    }
   ],
   "source": [
    "plotValues(lossValues)"
   ]
  },
  {
   "cell_type": "code",
   "execution_count": 23,
   "id": "2cdf68b6-67bd-41d2-9eb7-11e4730db540",
   "metadata": {},
   "outputs": [],
   "source": [
    "imageMatrix = constructImageMatrix(resultLabels, resultCentroids, np.shape(dataset))"
   ]
  },
  {
   "cell_type": "code",
   "execution_count": 45,
   "id": "845e7953-1595-4295-a244-9336bc74ad30",
   "metadata": {},
   "outputs": [],
   "source": [
    "generateImageFromMatrix(imageMatrix, file_name=\"k = \"+str(k)+\" quantized.jpeg\")"
   ]
  },
  {
   "cell_type": "code",
   "execution_count": 65,
   "id": "50cbdd14-6d9b-4b97-a607-d291627d195f",
   "metadata": {},
   "outputs": [],
   "source": [
    "def __main__():\n",
    "    k = sys.argv[1]\n",
    "    fileName = sys.arv[2]\n",
    "    image = Image.open(fileName)\n",
    "    dataset = np.asarray(image)\n",
    "    dataNormalized = dataset.reshape((len(dataset)*len(dataset[0])),3)\n",
    "    initial_centroids = generateRandomCenters(k)\n",
    "    resultingLabels, lossData = kMeansRun(dataset, k=16,outfileName=\"4quantized\")"
   ]
  },
  {
   "cell_type": "code",
   "execution_count": null,
   "id": "f33d05e2-54ff-48c3-ae96-fc6061d66575",
   "metadata": {},
   "outputs": [],
   "source": []
  }
 ],
 "metadata": {
  "kernelspec": {
   "display_name": "Python 3 (ipykernel)",
   "language": "python",
   "name": "python3"
  },
  "language_info": {
   "codemirror_mode": {
    "name": "ipython",
    "version": 3
   },
   "file_extension": ".py",
   "mimetype": "text/x-python",
   "name": "python",
   "nbconvert_exporter": "python",
   "pygments_lexer": "ipython3",
   "version": "3.8.10"
  }
 },
 "nbformat": 4,
 "nbformat_minor": 5
}
