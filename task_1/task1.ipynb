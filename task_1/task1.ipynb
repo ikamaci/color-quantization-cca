{
 "cells": [
  {
   "cell_type": "code",
   "execution_count": 1,
   "id": "4cff5982-945f-42cd-84eb-4d791d0e57ac",
   "metadata": {},
   "outputs": [],
   "source": [
    "from PIL import Image\n",
    "import matplotlib.pyplot as plt\n",
    "import numpy as np\n",
    "\n",
    "image = Image.open(\"image01.jpeg\")\n",
    "#plt.imshow(im)\n",
    "#points = plt.ginput(3, show_clicks=True)\n",
    "points =[(655.5080645161289, 266.0161290322581), (182.52419354838707, 179.64516129032268), (453.9758064516128, 473.71774193548384)]"
   ]
  },
  {
   "cell_type": "code",
   "execution_count": 2,
   "id": "5e3ecb9d-8e06-4e66-b161-ba228b913e05",
   "metadata": {},
   "outputs": [],
   "source": [
    "def plotValues(data, xAxis=[], xLabel=\"\", yLabel=\"\",title=\"\"):\n",
    "    plt.xlabel(xLabel)\n",
    "    plt.ylabel(yLabel) \n",
    "    plt.title(title) \n",
    "    if len(xAxis) > 0:\n",
    "        plt.plot(xAxis, data, '-ok')\n",
    "    else:\n",
    "        plt.plot(data, '-ok')"
   ]
  },
  {
   "cell_type": "code",
   "execution_count": 31,
   "id": "d7866e83-7c01-4d31-ab35-4536a87d8bc8",
   "metadata": {},
   "outputs": [],
   "source": [
    "def clusterize(centroids, data, k):\n",
    "    clusters = [ [] for i in range(k)]\n",
    "    labels = []\n",
    "    for dataPoint in data:\n",
    "        cluster_index=-1\n",
    "        distance = float('inf')\n",
    "        for c_index, cluster_center in enumerate(centroids):\n",
    "            distance_to_center = calculateDistance(cluster_center, dataPoint)\n",
    "            if(distance_to_center<distance):\n",
    "                distance = distance_to_center\n",
    "                cluster_index = c_index\n",
    "        labels.append(cluster_index)\n",
    "        #clusters[cluster_index].append(np.array(dataPoint))\n",
    "    return labels    "
   ]
  },
  {
   "cell_type": "code",
   "execution_count": 15,
   "id": "89fd056d-1988-4931-9552-f183d200ade0",
   "metadata": {},
   "outputs": [],
   "source": [
    "def calculateDistance(pointA, pointB):\n",
    "    if len(pointA) != len(pointB):\n",
    "        print(pointA,pointB)\n",
    "    substract= np.subtract(pointA, pointB)\n",
    "    return np.linalg.norm(substract)"
   ]
  },
  {
   "cell_type": "code",
   "execution_count": 32,
   "id": "31ccc196-5900-4e36-adb2-b9040a472a4f",
   "metadata": {},
   "outputs": [],
   "source": [
    "def calculateCentroids(labels,data,k):\n",
    "    clusters = [[] for i in range(k)]\n",
    "    for index,point in enumerate(data):\n",
    "        clusters[labels[index]].append(np.array(point))\n",
    "    newCentroids = []\n",
    "    for cluster in clusters:\n",
    "        newCentroids.append(np.mean(cluster,axis=0))\n",
    "    return newCentroids, clusters    "
   ]
  },
  {
   "cell_type": "code",
   "execution_count": 33,
   "id": "c751097c-0870-41d7-ad6f-e242b2363353",
   "metadata": {
    "tags": []
   },
   "outputs": [],
   "source": [
    "def kMeans(kValue, data, initial_centroids):\n",
    "    lossValues = []\n",
    "    labels = clusterize(initial_centroids, data, kValue)\n",
    "    newCentroids = initial_centroids\n",
    "    stop= False\n",
    "    previousLoss = float('inf')\n",
    "    iteration = 0\n",
    "    thresold = 0.01\n",
    "    while not stop:\n",
    "        iteration += 1\n",
    "        print(iteration)\n",
    "        newCentroids = calculateCentroids(labels,data,kValue)\n",
    "        print(newCentroids)\n",
    "        labels, clusters = clusterize(newCentroids, data, kValue)\n",
    "        currentLoss = 0\n",
    "        for c in clusters:\n",
    "            clusterVar = clusterVariance(c)\n",
    "            currentLoss += clusterVar\n",
    "        if((previousLoss - currentLoss) < thresold):\n",
    "            stop = True\n",
    "        lossValues.append(currentLoss)\n",
    "        previousLoss = currentLoss\n",
    "    return labels, newCentroids, lossValues"
   ]
  },
  {
   "cell_type": "code",
   "execution_count": 34,
   "id": "d24e78cb-507a-4cf1-8a28-df7411707833",
   "metadata": {},
   "outputs": [],
   "source": [
    "def clusterVariance(data):\n",
    "    center = np.mean(data,axis=0)\n",
    "    variance = 0\n",
    "    for dataPoint in data:\n",
    "        distanceSquare = np.square(calculateDistance(dataPoint, center))\n",
    "        variance += distanceSquare\n",
    "    return variance"
   ]
  },
  {
   "cell_type": "code",
   "execution_count": 35,
   "id": "460815d5-991e-4df4-ba3a-1c4dc657e941",
   "metadata": {},
   "outputs": [],
   "source": [
    "def generateRandomCenters(k=2):\n",
    "    centers = []\n",
    "    for i in range(k):\n",
    "        centers.append([np.random.uniform(250) for i in range(3)])\n",
    "    return centers"
   ]
  },
  {
   "cell_type": "code",
   "execution_count": 36,
   "id": "dbe7d9ae-41ac-4919-9fa1-57dd4f3ee617",
   "metadata": {},
   "outputs": [],
   "source": [
    "dataset = np.asarray(image)\n",
    "k = 2"
   ]
  },
  {
   "cell_type": "code",
   "execution_count": 37,
   "id": "70dc0335-acd7-4aaa-8524-c2015e8b5725",
   "metadata": {},
   "outputs": [
    {
     "name": "stdout",
     "output_type": "stream",
     "text": [
      "(520200, 3)\n",
      "(2, 3)\n"
     ]
    }
   ],
   "source": [
    "dataNormalized = dataset.reshape((len(dataset)*len(dataset[0])),3)\n",
    "initial_centroids = generateRandomCenters(k) \n",
    "print(np.shape(dataNormalized))\n",
    "print(np.shape(initial_centroids))"
   ]
  },
  {
   "cell_type": "code",
   "execution_count": 38,
   "id": "03fd04f6-2561-4b12-8170-db14fd93840a",
   "metadata": {},
   "outputs": [],
   "source": [
    "lab = clusterize(initial_centroids, dataNormalized, k)"
   ]
  },
  {
   "cell_type": "code",
   "execution_count": 39,
   "id": "3f6f1ce3-2b17-4d48-b95d-0d6233658fbc",
   "metadata": {},
   "outputs": [
    {
     "name": "stdout",
     "output_type": "stream",
     "text": [
      "1\n"
     ]
    },
    {
     "name": "stderr",
     "output_type": "stream",
     "text": [
      "IOPub data rate exceeded.\n",
      "The Jupyter server will temporarily stop sending output\n",
      "to the client in order to avoid crashing it.\n",
      "To change this limit, set the config variable\n",
      "`--ServerApp.iopub_data_rate_limit`.\n",
      "\n",
      "Current values:\n",
      "ServerApp.iopub_data_rate_limit=1000000.0 (bytes/sec)\n",
      "ServerApp.rate_limit_window=3.0 (secs)\n",
      "\n",
      "/tmp/ipykernel_102417/2581193570.py:4: VisibleDeprecationWarning: Creating an ndarray from ragged nested sequences (which is a list-or-tuple of lists-or-tuples-or ndarrays with different lengths or shapes) is deprecated. If you meant to do this, you must specify 'dtype=object' when creating the ndarray.\n",
      "  substract= np.subtract(pointA, pointB)\n"
     ]
    },
    {
     "ename": "ValueError",
     "evalue": "operands could not be broadcast together with shapes (2,) (3,) ",
     "output_type": "error",
     "traceback": [
      "\u001b[0;31m---------------------------------------------------------------------------\u001b[0m",
      "\u001b[0;31mValueError\u001b[0m                                Traceback (most recent call last)",
      "Cell \u001b[0;32mIn [39], line 1\u001b[0m\n\u001b[0;32m----> 1\u001b[0m resultLabels, resultCentroids, lossValues \u001b[38;5;241m=\u001b[39m kMeans(k,dataNormalized, initial_centroids)\n",
      "Cell \u001b[0;32mIn [33], line 14\u001b[0m, in \u001b[0;36mkMeans\u001b[0;34m(kValue, data, initial_centroids)\u001b[0m\n\u001b[1;32m     12\u001b[0m newCentroids \u001b[38;5;241m=\u001b[39m calculateCentroids(labels,data,kValue)\n\u001b[1;32m     13\u001b[0m \u001b[38;5;28mprint\u001b[39m(newCentroids)\n\u001b[0;32m---> 14\u001b[0m labels, clusters \u001b[38;5;241m=\u001b[39m \u001b[43mclusterize\u001b[49m\u001b[43m(\u001b[49m\u001b[43mnewCentroids\u001b[49m\u001b[43m,\u001b[49m\u001b[43m \u001b[49m\u001b[43mdata\u001b[49m\u001b[43m,\u001b[49m\u001b[43m \u001b[49m\u001b[43mkValue\u001b[49m\u001b[43m)\u001b[49m\n\u001b[1;32m     15\u001b[0m currentLoss \u001b[38;5;241m=\u001b[39m \u001b[38;5;241m0\u001b[39m\n\u001b[1;32m     16\u001b[0m \u001b[38;5;28;01mfor\u001b[39;00m c \u001b[38;5;129;01min\u001b[39;00m clusters:\n",
      "Cell \u001b[0;32mIn [31], line 8\u001b[0m, in \u001b[0;36mclusterize\u001b[0;34m(centroids, data, k)\u001b[0m\n\u001b[1;32m      6\u001b[0m distance \u001b[38;5;241m=\u001b[39m \u001b[38;5;28mfloat\u001b[39m(\u001b[38;5;124m'\u001b[39m\u001b[38;5;124minf\u001b[39m\u001b[38;5;124m'\u001b[39m)\n\u001b[1;32m      7\u001b[0m \u001b[38;5;28;01mfor\u001b[39;00m c_index, cluster_center \u001b[38;5;129;01min\u001b[39;00m \u001b[38;5;28menumerate\u001b[39m(centroids):\n\u001b[0;32m----> 8\u001b[0m     distance_to_center \u001b[38;5;241m=\u001b[39m \u001b[43mcalculateDistance\u001b[49m\u001b[43m(\u001b[49m\u001b[43mcluster_center\u001b[49m\u001b[43m,\u001b[49m\u001b[43m \u001b[49m\u001b[43mdataPoint\u001b[49m\u001b[43m)\u001b[49m\n\u001b[1;32m      9\u001b[0m     \u001b[38;5;28;01mif\u001b[39;00m(distance_to_center\u001b[38;5;241m<\u001b[39mdistance):\n\u001b[1;32m     10\u001b[0m         distance \u001b[38;5;241m=\u001b[39m distance_to_center\n",
      "Cell \u001b[0;32mIn [15], line 4\u001b[0m, in \u001b[0;36mcalculateDistance\u001b[0;34m(pointA, pointB)\u001b[0m\n\u001b[1;32m      2\u001b[0m \u001b[38;5;28;01mif\u001b[39;00m \u001b[38;5;28mlen\u001b[39m(pointA) \u001b[38;5;241m!=\u001b[39m \u001b[38;5;28mlen\u001b[39m(pointB):\n\u001b[1;32m      3\u001b[0m     \u001b[38;5;28mprint\u001b[39m(pointA,pointB)\n\u001b[0;32m----> 4\u001b[0m substract\u001b[38;5;241m=\u001b[39m \u001b[43mnp\u001b[49m\u001b[38;5;241;43m.\u001b[39;49m\u001b[43msubtract\u001b[49m\u001b[43m(\u001b[49m\u001b[43mpointA\u001b[49m\u001b[43m,\u001b[49m\u001b[43m \u001b[49m\u001b[43mpointB\u001b[49m\u001b[43m)\u001b[49m\n\u001b[1;32m      5\u001b[0m \u001b[38;5;28;01mreturn\u001b[39;00m np\u001b[38;5;241m.\u001b[39mlinalg\u001b[38;5;241m.\u001b[39mnorm(substract)\n",
      "\u001b[0;31mValueError\u001b[0m: operands could not be broadcast together with shapes (2,) (3,) "
     ]
    }
   ],
   "source": [
    "resultLabels, resultCentroids, lossValues = kMeans(k,dataNormalized, initial_centroids)"
   ]
  },
  {
   "cell_type": "code",
   "execution_count": null,
   "id": "87f6da3c-9c37-408c-bdaf-c27e68d5b5de",
   "metadata": {},
   "outputs": [],
   "source": [
    "plotValues(lossValues)"
   ]
  },
  {
   "cell_type": "code",
   "execution_count": null,
   "id": "be369b89-c458-43a2-adc0-6dc75ccda409",
   "metadata": {},
   "outputs": [],
   "source": [
    "from sklearn.cluster import KMeans"
   ]
  },
  {
   "cell_type": "code",
   "execution_count": null,
   "id": "8b5fd191-74de-465d-a2a2-9c26cf2f0065",
   "metadata": {},
   "outputs": [],
   "source": [
    "kmeans = KMeans(n_clusters=2, random_state=0).fit(data)"
   ]
  },
  {
   "cell_type": "code",
   "execution_count": null,
   "id": "8680c85b-adcc-4159-993c-cdac9a0381a6",
   "metadata": {},
   "outputs": [],
   "source": [
    "k = 2"
   ]
  },
  {
   "cell_type": "code",
   "execution_count": null,
   "id": "ce687b2a-0bbc-457e-8d9b-be25c97af5d7",
   "metadata": {},
   "outputs": [],
   "source": [
    "generateRandomCenters(2)"
   ]
  },
  {
   "cell_type": "code",
   "execution_count": null,
   "id": "a3457295-b064-47aa-84df-6459ae1a0fb2",
   "metadata": {},
   "outputs": [],
   "source": [
    "np.linalg.norm([1,1])"
   ]
  },
  {
   "cell_type": "code",
   "execution_count": null,
   "id": "2c44aafe-e848-4068-8050-3c74acc15793",
   "metadata": {},
   "outputs": [],
   "source": []
  }
 ],
 "metadata": {
  "kernelspec": {
   "display_name": "Python 3 (ipykernel)",
   "language": "python",
   "name": "python3"
  },
  "language_info": {
   "codemirror_mode": {
    "name": "ipython",
    "version": 3
   },
   "file_extension": ".py",
   "mimetype": "text/x-python",
   "name": "python",
   "nbconvert_exporter": "python",
   "pygments_lexer": "ipython3",
   "version": "3.8.10"
  }
 },
 "nbformat": 4,
 "nbformat_minor": 5
}
