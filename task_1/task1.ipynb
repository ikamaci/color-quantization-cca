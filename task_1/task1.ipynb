{
 "cells": [
  {
   "cell_type": "code",
   "execution_count": 35,
   "id": "4cff5982-945f-42cd-84eb-4d791d0e57ac",
   "metadata": {},
   "outputs": [
    {
     "ename": "ModuleNotFoundError",
     "evalue": "No module named 'skimage'",
     "output_type": "error",
     "traceback": [
      "\u001b[0;31m---------------------------------------------------------------------------\u001b[0m",
      "\u001b[0;31mModuleNotFoundError\u001b[0m                       Traceback (most recent call last)",
      "\u001b[0;32m/tmp/ipykernel_36289/3489206409.py\u001b[0m in \u001b[0;36m<module>\u001b[0;34m\u001b[0m\n\u001b[1;32m      2\u001b[0m \u001b[0;32mimport\u001b[0m \u001b[0mmatplotlib\u001b[0m\u001b[0;34m.\u001b[0m\u001b[0mpyplot\u001b[0m \u001b[0;32mas\u001b[0m \u001b[0mplt\u001b[0m\u001b[0;34m\u001b[0m\u001b[0;34m\u001b[0m\u001b[0m\n\u001b[1;32m      3\u001b[0m \u001b[0;32mimport\u001b[0m \u001b[0mnumpy\u001b[0m \u001b[0;32mas\u001b[0m \u001b[0mnp\u001b[0m\u001b[0;34m\u001b[0m\u001b[0;34m\u001b[0m\u001b[0m\n\u001b[0;32m----> 4\u001b[0;31m \u001b[0;32mfrom\u001b[0m \u001b[0mskimage\u001b[0m \u001b[0;32mimport\u001b[0m \u001b[0mio\u001b[0m\u001b[0;34m\u001b[0m\u001b[0;34m\u001b[0m\u001b[0m\n\u001b[0m\u001b[1;32m      5\u001b[0m \u001b[0;34m\u001b[0m\u001b[0m\n\u001b[1;32m      6\u001b[0m \u001b[0mimage\u001b[0m \u001b[0;34m=\u001b[0m \u001b[0mImage\u001b[0m\u001b[0;34m.\u001b[0m\u001b[0mopen\u001b[0m\u001b[0;34m(\u001b[0m\u001b[0;34m\"image01.jpeg\"\u001b[0m\u001b[0;34m)\u001b[0m\u001b[0;34m\u001b[0m\u001b[0;34m\u001b[0m\u001b[0m\n",
      "\u001b[0;31mModuleNotFoundError\u001b[0m: No module named 'skimage'"
     ]
    }
   ],
   "source": [
    "from PIL import Image\n",
    "import matplotlib.pyplot as plt\n",
    "import numpy as np\n",
    "from skimage import io\n",
    "\n",
    "image = Image.open(\"image01.jpeg\")\n",
    "#plt.imshow(im)\n",
    "#points = plt.ginput(3, show_clicks=True)\n",
    "points =[(655.5080645161289, 266.0161290322581), (182.52419354838707, 179.64516129032268), (453.9758064516128, 473.71774193548384)]"
   ]
  },
  {
   "cell_type": "code",
   "execution_count": 80,
   "id": "5e3ecb9d-8e06-4e66-b161-ba228b913e05",
   "metadata": {},
   "outputs": [],
   "source": [
    "def plotValues(data, xAxis=[], xLabel=\"\", yLabel=\"\",title=\"\"):\n",
    "    plt.xlabel(xLabel)\n",
    "    plt.ylabel(yLabel) \n",
    "    plt.title(title) \n",
    "    if len(xAxis) > 0:\n",
    "        plt.plot(xAxis, data, '-ok')\n",
    "    else:\n",
    "        plt.plot(data, '-ok')"
   ]
  },
  {
   "cell_type": "code",
   "execution_count": 82,
   "id": "d7866e83-7c01-4d31-ab35-4536a87d8bc8",
   "metadata": {},
   "outputs": [],
   "source": [
    "def clusterize(centroids, data, k):\n",
    "    clusters = [ [] for i in range(k)]\n",
    "    labels = []\n",
    "    for dataPoint in data:\n",
    "        cluster_index=-1\n",
    "        distance = float('inf')\n",
    "        for c_index, cluster_center in enumerate(centroids):\n",
    "            distance_to_center = calculateDistance(cluster_center, dataPoint)\n",
    "            if(distance_to_center<distance):\n",
    "                distance = distance_to_center\n",
    "                cluster_index = c_index\n",
    "        labels.append(cluster_index)\n",
    "        #clusters[cluster_index].append(np.array(dataPoint))\n",
    "    return labels    "
   ]
  },
  {
   "cell_type": "code",
   "execution_count": 37,
   "id": "89fd056d-1988-4931-9552-f183d200ade0",
   "metadata": {},
   "outputs": [],
   "source": [
    "def calculateDistance(pointA, pointB):\n",
    "    substract= np.subtract(pointA, pointB)\n",
    "    return np.linalg.norm(substract)"
   ]
  },
  {
   "cell_type": "code",
   "execution_count": 38,
   "id": "31ccc196-5900-4e36-adb2-b9040a472a4f",
   "metadata": {},
   "outputs": [],
   "source": [
    "def calculateCentroids(labels,data):\n",
    "    newCentroids = []\n",
    "    for cluster in clusters:\n",
    "        newCentroids.append(np.mean(cluster,axis=0))\n",
    "    return newCentroids    "
   ]
  },
  {
   "cell_type": "code",
   "execution_count": 42,
   "id": "c751097c-0870-41d7-ad6f-e242b2363353",
   "metadata": {
    "tags": []
   },
   "outputs": [],
   "source": [
    "def kMeans(kValue, data, initial_centroids):\n",
    "    lossValues = []\n",
    "    labels = []\n",
    "    iteration_clusters = []\n",
    "    iteration_centroids = []\n",
    "    labels = clusterize(initial_centroids, data, kValue)\n",
    "    iteration_clusters.append(clusters)\n",
    "    iteration_centroids.append(initial_centroids)\n",
    "    stop= False\n",
    "    previousLoss = float('inf')\n",
    "    iteration = 0\n",
    "    thresold = 0.0001\n",
    "    while not stop:\n",
    "        iteration += 1\n",
    "        newCentroids = calculateCentroids(labels,data)\n",
    "        labels = clusterize(newCentroids, data, kValue)\n",
    "        currentLoss = 0\n",
    "        for c in clusters:\n",
    "            clusterVar = clusterVariance(c)\n",
    "            currentLoss += clusterVar\n",
    "        if((previousLoss - currentLoss) < thresold):\n",
    "            stop = True\n",
    "        lossValues.append(currentLoss)\n",
    "        previousLoss = currentLoss\n",
    "        iteration_clusters.append(clusters)\n",
    "        iteration_centroids.append(newCentroids)\n",
    "    return iteration_clusters, iteration_centroids, lossValues   "
   ]
  },
  {
   "cell_type": "code",
   "execution_count": 40,
   "id": "d24e78cb-507a-4cf1-8a28-df7411707833",
   "metadata": {},
   "outputs": [],
   "source": [
    "def clusterVariance(data):\n",
    "    center = np.mean(data,axis=0)\n",
    "    variance = 0\n",
    "    for dataPoint in data:\n",
    "        distanceSquare = np.square(calculateDistance(dataPoint, center))\n",
    "        variance += distanceSquare\n",
    "    return variance"
   ]
  },
  {
   "cell_type": "code",
   "execution_count": 76,
   "id": "dbe7d9ae-41ac-4919-9fa1-57dd4f3ee617",
   "metadata": {},
   "outputs": [],
   "source": [
    "data = np.asarray(image)\n",
    "k = 2"
   ]
  },
  {
   "cell_type": "code",
   "execution_count": 78,
   "id": "70dc0335-acd7-4aaa-8524-c2015e8b5725",
   "metadata": {},
   "outputs": [
    {
     "name": "stdout",
     "output_type": "stream",
     "text": [
      "(520200, 3)\n",
      "(2, 3)\n"
     ]
    }
   ],
   "source": [
    "dataNormalized = data.reshape((len(data)*len(data[0])),3)\n",
    "initial_centroids = generateRandomCenters(k) \n",
    "print(np.shape(dataNormalized))\n",
    "print(np.shape(initial_centroids))"
   ]
  },
  {
   "cell_type": "code",
   "execution_count": 83,
   "id": "03fd04f6-2561-4b12-8170-db14fd93840a",
   "metadata": {},
   "outputs": [],
   "source": [
    "lab = clusterize(initial_centroids, dataNormalized, k)"
   ]
  },
  {
   "cell_type": "code",
   "execution_count": 85,
   "id": "3c206e92-efef-4523-a7d5-5139849b5ec1",
   "metadata": {},
   "outputs": [
    {
     "data": {
      "text/plain": [
       "[1,\n",
       " 1,\n",
       " 1,\n",
       " 1,\n",
       " 1,\n",
       " 1,\n",
       " 1,\n",
       " 1,\n",
       " 1,\n",
       " 1,\n",
       " 1,\n",
       " 1,\n",
       " 1,\n",
       " 1,\n",
       " 1,\n",
       " 1,\n",
       " 1,\n",
       " 1,\n",
       " 1,\n",
       " 1,\n",
       " 1,\n",
       " 1,\n",
       " 0,\n",
       " 0,\n",
       " 0,\n",
       " 1,\n",
       " 1,\n",
       " 1,\n",
       " 1,\n",
       " 1]"
      ]
     },
     "execution_count": 85,
     "metadata": {},
     "output_type": "execute_result"
    }
   ],
   "source": []
  },
  {
   "cell_type": "code",
   "execution_count": 79,
   "id": "3f6f1ce3-2b17-4d48-b95d-0d6233658fbc",
   "metadata": {},
   "outputs": [],
   "source": [
    "clusterHistory, centroidHistory, lossValues = kMeans(k,dataNormalized, initial_centroids)"
   ]
  },
  {
   "cell_type": "code",
   "execution_count": 81,
   "id": "87f6da3c-9c37-408c-bdaf-c27e68d5b5de",
   "metadata": {},
   "outputs": [
    {
     "data": {
      "image/png": "[encoded data removed]",
      "text/plain": [
       "<Figure size 432x288 with 1 Axes>"
      ]
     },
     "metadata": {
      "needs_background": "light"
     },
     "output_type": "display_data"
    }
   ],
   "source": [
    "plotValues(lossValues)"
   ]
  },
  {
   "cell_type": "code",
   "execution_count": 15,
   "id": "be369b89-c458-43a2-adc0-6dc75ccda409",
   "metadata": {},
   "outputs": [],
   "source": [
    "from sklearn.cluster import KMeans"
   ]
  },
  {
   "cell_type": "code",
   "execution_count": 16,
   "id": "8b5fd191-74de-465d-a2a2-9c26cf2f0065",
   "metadata": {},
   "outputs": [
    {
     "ename": "ValueError",
     "evalue": "Found array with dim 3. KMeans expected <= 2.",
     "output_type": "error",
     "traceback": [
      "\u001b[0;31m---------------------------------------------------------------------------\u001b[0m",
      "\u001b[0;31mValueError\u001b[0m                                Traceback (most recent call last)",
      "\u001b[0;32m/tmp/ipykernel_36289/459297653.py\u001b[0m in \u001b[0;36m<module>\u001b[0;34m\u001b[0m\n\u001b[0;32m----> 1\u001b[0;31m \u001b[0mkmeans\u001b[0m \u001b[0;34m=\u001b[0m \u001b[0mKMeans\u001b[0m\u001b[0;34m(\u001b[0m\u001b[0mn_clusters\u001b[0m\u001b[0;34m=\u001b[0m\u001b[0;36m2\u001b[0m\u001b[0;34m,\u001b[0m \u001b[0mrandom_state\u001b[0m\u001b[0;34m=\u001b[0m\u001b[0;36m0\u001b[0m\u001b[0;34m)\u001b[0m\u001b[0;34m.\u001b[0m\u001b[0mfit\u001b[0m\u001b[0;34m(\u001b[0m\u001b[0mdata\u001b[0m\u001b[0;34m)\u001b[0m\u001b[0;34m\u001b[0m\u001b[0;34m\u001b[0m\u001b[0m\n\u001b[0m",
      "\u001b[0;32m~/mambaforge/lib/python3.9/site-packages/sklearn/cluster/_kmeans.py\u001b[0m in \u001b[0;36mfit\u001b[0;34m(self, X, y, sample_weight)\u001b[0m\n\u001b[1;32m   1365\u001b[0m             \u001b[0mFitted\u001b[0m \u001b[0mestimator\u001b[0m\u001b[0;34m.\u001b[0m\u001b[0;34m\u001b[0m\u001b[0;34m\u001b[0m\u001b[0m\n\u001b[1;32m   1366\u001b[0m         \"\"\"\n\u001b[0;32m-> 1367\u001b[0;31m         X = self._validate_data(\n\u001b[0m\u001b[1;32m   1368\u001b[0m             \u001b[0mX\u001b[0m\u001b[0;34m,\u001b[0m\u001b[0;34m\u001b[0m\u001b[0;34m\u001b[0m\u001b[0m\n\u001b[1;32m   1369\u001b[0m             \u001b[0maccept_sparse\u001b[0m\u001b[0;34m=\u001b[0m\u001b[0;34m\"csr\"\u001b[0m\u001b[0;34m,\u001b[0m\u001b[0;34m\u001b[0m\u001b[0;34m\u001b[0m\u001b[0m\n",
      "\u001b[0;32m~/mambaforge/lib/python3.9/site-packages/sklearn/base.py\u001b[0m in \u001b[0;36m_validate_data\u001b[0;34m(self, X, y, reset, validate_separately, **check_params)\u001b[0m\n\u001b[1;32m    575\u001b[0m             \u001b[0;32mraise\u001b[0m \u001b[0mValueError\u001b[0m\u001b[0;34m(\u001b[0m\u001b[0;34m\"Validation should be done on X, y or both.\"\u001b[0m\u001b[0;34m)\u001b[0m\u001b[0;34m\u001b[0m\u001b[0;34m\u001b[0m\u001b[0m\n\u001b[1;32m    576\u001b[0m         \u001b[0;32melif\u001b[0m \u001b[0;32mnot\u001b[0m \u001b[0mno_val_X\u001b[0m \u001b[0;32mand\u001b[0m \u001b[0mno_val_y\u001b[0m\u001b[0;34m:\u001b[0m\u001b[0;34m\u001b[0m\u001b[0;34m\u001b[0m\u001b[0m\n\u001b[0;32m--> 577\u001b[0;31m             \u001b[0mX\u001b[0m \u001b[0;34m=\u001b[0m \u001b[0mcheck_array\u001b[0m\u001b[0;34m(\u001b[0m\u001b[0mX\u001b[0m\u001b[0;34m,\u001b[0m \u001b[0minput_name\u001b[0m\u001b[0;34m=\u001b[0m\u001b[0;34m\"X\"\u001b[0m\u001b[0;34m,\u001b[0m \u001b[0;34m**\u001b[0m\u001b[0mcheck_params\u001b[0m\u001b[0;34m)\u001b[0m\u001b[0;34m\u001b[0m\u001b[0;34m\u001b[0m\u001b[0m\n\u001b[0m\u001b[1;32m    578\u001b[0m             \u001b[0mout\u001b[0m \u001b[0;34m=\u001b[0m \u001b[0mX\u001b[0m\u001b[0;34m\u001b[0m\u001b[0;34m\u001b[0m\u001b[0m\n\u001b[1;32m    579\u001b[0m         \u001b[0;32melif\u001b[0m \u001b[0mno_val_X\u001b[0m \u001b[0;32mand\u001b[0m \u001b[0;32mnot\u001b[0m \u001b[0mno_val_y\u001b[0m\u001b[0;34m:\u001b[0m\u001b[0;34m\u001b[0m\u001b[0;34m\u001b[0m\u001b[0m\n",
      "\u001b[0;32m~/mambaforge/lib/python3.9/site-packages/sklearn/utils/validation.py\u001b[0m in \u001b[0;36mcheck_array\u001b[0;34m(array, accept_sparse, accept_large_sparse, dtype, order, copy, force_all_finite, ensure_2d, allow_nd, ensure_min_samples, ensure_min_features, estimator, input_name)\u001b[0m\n\u001b[1;32m    891\u001b[0m \u001b[0;34m\u001b[0m\u001b[0m\n\u001b[1;32m    892\u001b[0m         \u001b[0;32mif\u001b[0m \u001b[0;32mnot\u001b[0m \u001b[0mallow_nd\u001b[0m \u001b[0;32mand\u001b[0m \u001b[0marray\u001b[0m\u001b[0;34m.\u001b[0m\u001b[0mndim\u001b[0m \u001b[0;34m>=\u001b[0m \u001b[0;36m3\u001b[0m\u001b[0;34m:\u001b[0m\u001b[0;34m\u001b[0m\u001b[0;34m\u001b[0m\u001b[0m\n\u001b[0;32m--> 893\u001b[0;31m             raise ValueError(\n\u001b[0m\u001b[1;32m    894\u001b[0m                 \u001b[0;34m\"Found array with dim %d. %s expected <= 2.\"\u001b[0m\u001b[0;34m\u001b[0m\u001b[0;34m\u001b[0m\u001b[0m\n\u001b[1;32m    895\u001b[0m                 \u001b[0;34m%\u001b[0m \u001b[0;34m(\u001b[0m\u001b[0marray\u001b[0m\u001b[0;34m.\u001b[0m\u001b[0mndim\u001b[0m\u001b[0;34m,\u001b[0m \u001b[0mestimator_name\u001b[0m\u001b[0;34m)\u001b[0m\u001b[0;34m\u001b[0m\u001b[0;34m\u001b[0m\u001b[0m\n",
      "\u001b[0;31mValueError\u001b[0m: Found array with dim 3. KMeans expected <= 2."
     ]
    }
   ],
   "source": [
    "kmeans = KMeans(n_clusters=2, random_state=0).fit(data)"
   ]
  },
  {
   "cell_type": "code",
   "execution_count": 27,
   "id": "8680c85b-adcc-4159-993c-cdac9a0381a6",
   "metadata": {},
   "outputs": [],
   "source": [
    "k = 2"
   ]
  },
  {
   "cell_type": "code",
   "execution_count": 33,
   "id": "460815d5-991e-4df4-ba3a-1c4dc657e941",
   "metadata": {},
   "outputs": [],
   "source": [
    "def generateRandomCenters(k=2):\n",
    "    centers = []\n",
    "    for i in range(k):\n",
    "        centers.append([np.random.uniform(250) for i in range(3)])\n",
    "        io.imshow(palette[indices])\n",
    "    return centers"
   ]
  },
  {
   "cell_type": "code",
   "execution_count": 34,
   "id": "ce687b2a-0bbc-457e-8d9b-be25c97af5d7",
   "metadata": {},
   "outputs": [
    {
     "data": {
      "text/plain": [
       "[[128.4246721765546, 220.25845366216387, 99.58616218160961],\n",
       " [8.446657981604034, 227.14332985339308, 227.70884520656693]]"
      ]
     },
     "execution_count": 34,
     "metadata": {},
     "output_type": "execute_result"
    }
   ],
   "source": [
    "generateRandomCenters(2)"
   ]
  },
  {
   "cell_type": "code",
   "execution_count": 44,
   "id": "a3457295-b064-47aa-84df-6459ae1a0fb2",
   "metadata": {},
   "outputs": [
    {
     "data": {
      "text/plain": [
       "1.4142135623730951"
      ]
     },
     "execution_count": 44,
     "metadata": {},
     "output_type": "execute_result"
    }
   ],
   "source": [
    "np.linalg.norm([1,1])"
   ]
  },
  {
   "cell_type": "code",
   "execution_count": null,
   "id": "2c44aafe-e848-4068-8050-3c74acc15793",
   "metadata": {},
   "outputs": [],
   "source": []
  }
 ],
 "metadata": {
  "kernelspec": {
   "display_name": "Python 3 (ipykernel)",
   "language": "python",
   "name": "python3"
  },
  "language_info": {
   "codemirror_mode": {
    "name": "ipython",
    "version": 3
   },
   "file_extension": ".py",
   "mimetype": "text/x-python",
   "name": "python",
   "nbconvert_exporter": "python",
   "pygments_lexer": "ipython3",
   "version": "3.9.5"
  }
 },
 "nbformat": 4,
 "nbformat_minor": 5
}
