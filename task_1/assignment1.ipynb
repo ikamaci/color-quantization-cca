{
 "cells": [
  {
   "cell_type": "code",
   "execution_count": null,
   "id": "04962272-2d3c-43bc-9706-c7e7541efae5",
   "metadata": {},
   "outputs": [],
   "source": [
    "import numpy as np\n",
    "import matplotlib.pyplot as plt\n",
    "from sklearn.cluster import KMeans"
   ]
  },
  {
   "cell_type": "code",
   "execution_count": null,
   "id": "3de9923e-5070-4c69-a2c6-ce3dc6402890",
   "metadata": {},
   "outputs": [],
   "source": [
    "def scatterCluster(clusters,centroids=[], xLabel=\"Feature 1\", yLabel=\"Feature 2\", title= \"kMeans Clusters & Cluster Centers\"):\n",
    "    colors = [\"blue\", \"red\", \"green\",\"grey\",\"yellow\",\"brown\",\"orange\",\"purple\"]\n",
    "    for i,cluster in enumerate(clusters):\n",
    "        #print(len(cluster),cluster)\n",
    "        plt.scatter(np.array(cluster)[:,0], np.array(cluster)[:,1],c =colors[i%8], s=0.1)\n",
    "    if len(centroids) > 0:\n",
    "        plt.scatter(np.array(centroids)[:,0], np.array(centroids)[:,1],c = \"black\", marker=\"x\")    \n",
    "    plt.xlabel(xLabel)\n",
    "    plt.ylabel(yLabel) \n",
    "    plt.title(title)\n",
    "    plt.tight_layout() \n",
    "    plt.show()"
   ]
  },
  {
   "cell_type": "code",
   "execution_count": null,
   "id": "82cad62e-2f07-4603-b8c7-9285a79d8a63",
   "metadata": {},
   "outputs": [],
   "source": [
    "def scatterScikitsResult(labels,centroids,data, xLabel=\"Feature 1\", yLabel=\"Feature 2\", title= \"Scikit Result\"):\n",
    "    clusters = [ [] for i in range(len(centroids))]\n",
    "    for i,point in enumerate(data):\n",
    "        clusters[labels[i]].append(point)\n",
    "    colors = [\"blue\", \"red\", \"green\",\"grey\",\"yellow\",\"brown\",\"orange\",\"purple\"]\n",
    "    for i,cluster in enumerate(clusters):\n",
    "        plt.scatter(np.array(cluster)[:,0], np.array(cluster)[:,1],c =colors[i%8], s=0.1)\n",
    "    plt.scatter(np.array(centroids)[:,0], np.array(centroids)[:,1],c = \"black\", marker=\"x\")    \n",
    "    plt.xlabel(xLabel)\n",
    "    plt.ylabel(yLabel) \n",
    "    plt.title(title)\n",
    "    plt.tight_layout() \n",
    "    plt.show()"
   ]
  },
  {
   "cell_type": "code",
   "execution_count": null,
   "id": "625d0765-2072-4a85-9779-2b875de12e8b",
   "metadata": {},
   "outputs": [],
   "source": [
    "def plotValues(data, xAxis=[], xLabel=\"\", yLabel=\"\",title=\"\"):\n",
    "    plt.xlabel(xLabel)\n",
    "    plt.ylabel(yLabel) \n",
    "    plt.title(title) \n",
    "    if len(xAxis) > 0:\n",
    "        plt.plot(xAxis, data, '-ok')\n",
    "    else:\n",
    "        plt.plot(data, '-ok')"
   ]
  },
  {
   "cell_type": "code",
   "execution_count": null,
   "id": "13f3608e-f8ec-442e-aeac-6c53c2d2d092",
   "metadata": {},
   "outputs": [],
   "source": [
    "def clusterize(centroids, data, k):\n",
    "    clusters = [ [] for i in range(k)]\n",
    "    for dataPoint in data:\n",
    "        cluster_index=-1\n",
    "        distance = float('inf')\n",
    "        for c_index, cluster_center in enumerate(centroids):\n",
    "            distance_to_center = calculateDistance(cluster_center, dataPoint)\n",
    "            if(distance_to_center<distance):\n",
    "                distance = distance_to_center\n",
    "                cluster_index = c_index     \n",
    "        clusters[cluster_index].append(np.array(dataPoint))\n",
    "    return clusters    "
   ]
  },
  {
   "cell_type": "code",
   "execution_count": null,
   "id": "a48dfd7c-69f9-4b50-9a2a-a975d5c182e2",
   "metadata": {},
   "outputs": [],
   "source": [
    "def calculateDistance(pointA, pointB):\n",
    "    substract= np.subtract(pointA, pointB)\n",
    "    return np.linalg.norm(substract)"
   ]
  },
  {
   "cell_type": "code",
   "execution_count": null,
   "id": "e3bf3305-162b-421e-bddd-5a54a3a23f55",
   "metadata": {},
   "outputs": [],
   "source": [
    "def calculateCentroids(clusters):\n",
    "    newCentroids = []\n",
    "    for cluster in clusters:\n",
    "        newCentroids.append(np.mean(cluster,axis=0))\n",
    "    return newCentroids    "
   ]
  },
  {
   "cell_type": "code",
   "execution_count": null,
   "id": "2688d1bc-dd41-48d9-aeb2-31ba16832e24",
   "metadata": {
    "tags": []
   },
   "outputs": [],
   "source": [
    "def kMeans(kValue, data):\n",
    "    lossValues = []\n",
    "    iteration_clusters = []\n",
    "    iteration_centroids = []\n",
    "    initial_centroids = np.random.rand(kValue,2)\n",
    "    clusters = clusterize(initial_centroids, data, kValue)\n",
    "    iteration_clusters.append(clusters)\n",
    "    iteration_centroids.append(initial_centroids)\n",
    "    #scatterCluster(clusters,initial_centroids)\n",
    "    stop= False\n",
    "    previousLoss = float('inf')\n",
    "    iteration = 0\n",
    "    thresold = 0.0001\n",
    "    while not stop:\n",
    "        iteration += 1\n",
    "        newCentroids = calculateCentroids(clusters)\n",
    "        clusters = clusterize(newCentroids, data, kValue)\n",
    "        currentLoss = 0\n",
    "        for c in clusters:\n",
    "            clusterVar = clusterVariance(c)\n",
    "            currentLoss += clusterVar\n",
    "        if((previousLoss - currentLoss) < thresold):\n",
    "            stop = True\n",
    "        lossValues.append(currentLoss)\n",
    "        previousLoss = currentLoss\n",
    "        iteration_clusters.append(clusters)\n",
    "        iteration_centroids.append(newCentroids)\n",
    "    return iteration_clusters, iteration_centroids, lossValues   "
   ]
  },
  {
   "cell_type": "code",
   "execution_count": null,
   "id": "e8b3baa2-5923-476c-b7c4-0fe8e77b5c58",
   "metadata": {},
   "outputs": [],
   "source": [
    "def clusterVariance(data):\n",
    "    center = np.mean(data,axis=0)\n",
    "    variance = 0\n",
    "    for dataPoint in data:\n",
    "        distanceSquare = np.square(calculateDistance(dataPoint, center))\n",
    "        variance += distanceSquare\n",
    "    return variance"
   ]
  },
  {
   "cell_type": "code",
   "execution_count": null,
   "id": "6128b961-cfde-4462-b35f-a8926a9f738a",
   "metadata": {},
   "outputs": [],
   "source": [
    "def randomCluster(clusterNumber):\n",
    "    data = np.random.normal(sample_size,dimension)"
   ]
  },
  {
   "cell_type": "code",
   "execution_count": null,
   "id": "8b9b5c8e-f29f-4809-a831-e519d4693ddb",
   "metadata": {},
   "outputs": [],
   "source": [
    "def calculate_ai(point,cluster):\n",
    "    a_i=0\n",
    "    for i,_point in cluster:\n",
    "        a_i += calculateDistance(_point,point)\n",
    "    return a_i/len(cluster)"
   ]
  },
  {
   "cell_type": "code",
   "execution_count": null,
   "id": "a349a1fc-6e1e-4fb3-940a-f0ba3dcf4b4b",
   "metadata": {},
   "outputs": [],
   "source": [
    "def calculate_bi(point,cluster_index,clusters):\n",
    "    b_i=0\n",
    "    number_of_distance = 0\n",
    "    for i,cluster in enumerate(clusters):\n",
    "        if i != cluster_index:\n",
    "            number_of_distance += len(cluster) \n",
    "            for _point in cluster:\n",
    "                b_i += calculateDistance(_point,point)\n",
    "    return b_i/ number_of_distance"
   ]
  },
  {
   "cell_type": "code",
   "execution_count": null,
   "id": "d974cdd9-8532-4814-bab3-aab5e8a77a6a",
   "metadata": {},
   "outputs": [],
   "source": [
    "def silhouetteCoef(clusters):\n",
    "    s_i_List= []\n",
    "    for i,cluster in enumerate(clusters):\n",
    "        for index,point in enumerate(cluster):\n",
    "            a_i = calculate_ai(point,cluster);\n",
    "            b_i = calculate_bi(point,int(i),clusters);\n",
    "            s_i = (b_i - a_i)/ max(b_i, a_i)\n",
    "            s_i_List.append(s_i)  \n",
    "    return sum(s_i_List) / len(s_i_List)"
   ]
  },
  {
   "cell_type": "code",
   "execution_count": null,
   "id": "be6f9fc7-503a-4476-b629-db69d99c8f18",
   "metadata": {},
   "outputs": [],
   "source": [
    "def generate3ClusterData(cluster_size):\n",
    "    x =  np.random.normal(0.0,0.2,size=cluster_size)\n",
    "    y =  np.random.normal(0.0,0.3,size=cluster_size)\n",
    "    data1 = np.vstack((x, y)).T \n",
    "    x2 =  np.random.normal(1.0,0.2,size=cluster_size)\n",
    "    y2 =  np.random.normal(1.0,0.2,size=cluster_size)\n",
    "    data2 = np.vstack((x2, y2)).T\n",
    "    x3 =  np.random.normal(-1.0,0.2,size=cluster_size)\n",
    "    y3 =  np.random.normal(1.0,0.2,size=cluster_size)\n",
    "    data3 = np.vstack((x3, y3)).T \n",
    "    return np.concatenate((np.concatenate((data1, data2)),data3))"
   ]
  },
  {
   "cell_type": "code",
   "execution_count": null,
   "id": "9e18ba6f-dbd1-4da1-978c-a43524d3713b",
   "metadata": {},
   "outputs": [],
   "source": [
    "def findBestK(data, max_Kvalue):\n",
    "    lossValues = []\n",
    "    siCoeff= []\n",
    "    best_K_Value = 0\n",
    "    maxSiCoeff = -1\n",
    "    for i in range(1,max_Kvalue+1):\n",
    "        print(\"Calculating kMeans with k: \", i)\n",
    "        cluster_history, centroid_history, lossData = kMeans(i,data)\n",
    "        lossValues.append(lossData[-1])\n",
    "        if i > 1:\n",
    "            siValue = silhouetteCoef(cluster_history[-1])\n",
    "            if siValue > maxSiCoeff:\n",
    "                maxSiCoeff = siValue\n",
    "                best_K_Value = i\n",
    "            siCoeff.append(siValue)\n",
    "    print(\"Calculated best K-Value: \", best_K_Value)\n",
    "    return lossValues, best_K_Value, siCoeff"
   ]
  },
  {
   "cell_type": "markdown",
   "id": "a7d00807-0b54-4823-8343-d95e6b9546ab",
   "metadata": {},
   "source": [
    "## Define Cluster and Data Parameters"
   ]
  },
  {
   "cell_type": "code",
   "execution_count": null,
   "id": "fbb464bb-7634-46ea-9268-ccc5fd6c8c00",
   "metadata": {
    "tags": []
   },
   "outputs": [],
   "source": [
    "cluster_size = 500\n",
    "number_of_cluster = 3\n",
    "sample_size = cluster_size * number_of_cluster\n",
    "dimension = 2\n",
    "max_K_val = 6\n",
    "k=3"
   ]
  },
  {
   "cell_type": "code",
   "execution_count": null,
   "id": "9ea58d35-f546-4e8e-a986-85d6b20c0097",
   "metadata": {},
   "outputs": [],
   "source": [
    "data = generate3ClusterData(cluster_size)\n",
    "scatterCluster([data],title=\"Dataset with 2 feature\")"
   ]
  },
  {
   "cell_type": "markdown",
   "id": "593d425d-c7fc-47cf-90b1-4b738d2932b2",
   "metadata": {},
   "source": [
    "### Apply k-Means Algorithm"
   ]
  },
  {
   "cell_type": "code",
   "execution_count": null,
   "id": "3aee242d-a6a7-4814-8052-c07498323e52",
   "metadata": {},
   "outputs": [],
   "source": [
    "cluster_history, centroid_history, lossData = kMeans(k, data)"
   ]
  },
  {
   "cell_type": "code",
   "execution_count": null,
   "id": "fe3d53f3-439f-4261-aa04-a683dca04e85",
   "metadata": {},
   "outputs": [],
   "source": [
    "scatterCluster(cluster_history[0], centroid_history[0], title=\"Initial Centroids and Assigned Clusters\")\n",
    "scatterCluster(cluster_history[1], centroid_history[1], title=\"Iteration 1\")\n",
    "scatterCluster(cluster_history[2], centroid_history[2], title=\"Iteration 2\")\n",
    "scatterCluster(cluster_history[3], centroid_history[3], title=\"Iteration 3\")\n",
    "scatterCluster(cluster_history[-1], centroid_history[-1], title=\"Result\")"
   ]
  },
  {
   "cell_type": "code",
   "execution_count": null,
   "id": "a80134e6-b9ef-48fb-9bc0-d2abc774a839",
   "metadata": {},
   "outputs": [],
   "source": [
    "plotValues(data=lossData, xLabel=\"# of iteration\", yLabel=\"Loss Value\", title=\"K = \" + str(k))"
   ]
  },
  {
   "cell_type": "markdown",
   "id": "da39807a-10c9-4404-bf4f-0f101fe50d5f",
   "metadata": {},
   "source": [
    "## Scikit-Learn k-Means Algorithm"
   ]
  },
  {
   "cell_type": "code",
   "execution_count": null,
   "id": "dc570902-ce54-4007-9299-2968d341106a",
   "metadata": {},
   "outputs": [],
   "source": [
    "km = KMeans(\n",
    "    n_clusters=k, init=centroid_history[0],\n",
    "    n_init=1, max_iter=300,\n",
    "    tol=0.0001,\n",
    "    random_state=0\n",
    ")\n",
    "km.fit_predict(data)"
   ]
  },
  {
   "cell_type": "code",
   "execution_count": null,
   "id": "66cc3585-df70-4598-9e7d-547d69dcc1b8",
   "metadata": {},
   "outputs": [],
   "source": [
    "scatterCluster(cluster_history[-1], centroid_history[-1], title='kMeans Implementation Result')\n",
    "scatterScikitsResult(km.labels_, km.cluster_centers_,data)"
   ]
  },
  {
   "cell_type": "markdown",
   "id": "11a4ac1f-b0a3-403f-a554-d49d4a961f15",
   "metadata": {
    "tags": []
   },
   "source": [
    "## Finding Best K-Value"
   ]
  },
  {
   "cell_type": "code",
   "execution_count": null,
   "id": "771b60d0-c9c4-4275-a4ad-ced32385adf2",
   "metadata": {},
   "outputs": [],
   "source": [
    "allLosses, bestK, averageSiCoeff = findBestK(data, max_Kvalue= max_K_val)"
   ]
  },
  {
   "cell_type": "code",
   "execution_count": null,
   "id": "f4d5b0ae-8e61-4588-9505-3f84bd42f7d1",
   "metadata": {},
   "outputs": [],
   "source": [
    "plotValues(data=allLosses, xAxis=[int(x+1) for x in range(max_K_val)],xLabel=\"K Value\", yLabel=\"Loss Value\",title=\"K vs Loss Value\")"
   ]
  },
  {
   "cell_type": "code",
   "execution_count": null,
   "id": "4217f95e-cbce-4860-9b3f-800c9a8d2830",
   "metadata": {},
   "outputs": [],
   "source": [
    "plotValues(data=averageSiCoeff, xAxis=[int(x) for x in range(2,max_K_val+1)],xLabel=\"K Value\", yLabel=\"Silhouette Coeff\",title=\"K vs Silhouette Value\")"
   ]
  },
  {
   "cell_type": "markdown",
   "id": "306314dc-45b5-4c24-81f0-20bd3bff1700",
   "metadata": {},
   "source": [
    "## kMeans with Diffucult Dataset"
   ]
  },
  {
   "cell_type": "code",
   "execution_count": null,
   "id": "8f52d457-a219-4db8-be29-f33287c6aa1c",
   "metadata": {},
   "outputs": [],
   "source": [
    "cluster_size = 500\n",
    "k=3"
   ]
  },
  {
   "cell_type": "code",
   "execution_count": null,
   "id": "601f00d7-3629-4e1c-b111-9a2376352cb4",
   "metadata": {},
   "outputs": [],
   "source": [
    "def circle_points(r, n):\n",
    "    circles = []\n",
    "    for r, n in zip(r, n):\n",
    "        t = np.linspace(0, 2*np.pi, n, endpoint=False)\n",
    "        x = r * np.cos(t) \n",
    "        y = r * np.sin(t)\n",
    "        circles.append(np.c_[x, y])\n",
    "    return circles"
   ]
  },
  {
   "cell_type": "markdown",
   "id": "9660fe87-0154-4db0-8054-198afd26cd27",
   "metadata": {},
   "source": [
    "### Generate Circular Data"
   ]
  },
  {
   "cell_type": "code",
   "execution_count": null,
   "id": "082ec675-3d3c-4970-aad9-7d20cf9bfcdb",
   "metadata": {},
   "outputs": [],
   "source": [
    "r = [5, 1, 2]\n",
    "n = [cluster_size, cluster_size, cluster_size]\n",
    "circles = circle_points(r, n)"
   ]
  },
  {
   "cell_type": "code",
   "execution_count": null,
   "id": "4d60d74c-496d-4e24-9837-e005d4b004a2",
   "metadata": {},
   "outputs": [],
   "source": [
    "fig, ax = plt.subplots()\n",
    "for circle in circles:\n",
    "    ax.scatter(circle[:, 0], circle[:, 1],s=1)\n",
    "plt.title(\"3 Cluster Non Convex Data\")\n",
    "plt.xlabel(\"Fature 1\")\n",
    "plt.ylabel(\"Fature 2\")\n",
    "ax.set_aspect('equal')\n",
    "plt.show()"
   ]
  },
  {
   "cell_type": "code",
   "execution_count": null,
   "id": "c01b649c-51d3-44cc-bb1f-d90f46d701a1",
   "metadata": {},
   "outputs": [],
   "source": [
    "dataCircle = np.concatenate((np.concatenate((circles[0], circles[1])),circles[2]))"
   ]
  },
  {
   "cell_type": "code",
   "execution_count": null,
   "id": "b3df0207-078a-43b8-8b11-737d802134ba",
   "metadata": {},
   "outputs": [],
   "source": [
    "scatterCluster([dataCircle], title=\"Non Convex Data without Labels\")"
   ]
  },
  {
   "cell_type": "markdown",
   "id": "db30d63a-5c05-4543-b7cf-bc9330862162",
   "metadata": {},
   "source": [
    "### Apply k-Means Algorithm"
   ]
  },
  {
   "cell_type": "code",
   "execution_count": null,
   "id": "176c368e-c150-48a9-8b88-d31154787a9b",
   "metadata": {},
   "outputs": [],
   "source": [
    "cluster_history, centroid_history, lossData = kMeans(k, dataCircle)"
   ]
  },
  {
   "cell_type": "code",
   "execution_count": null,
   "id": "a606afa3-00ad-4d82-b327-eebbe97789de",
   "metadata": {},
   "outputs": [],
   "source": [
    "scatterCluster(cluster_history[0], centroid_history[0], title=\"Initial Centroids and Assigned Clusters\")"
   ]
  },
  {
   "cell_type": "code",
   "execution_count": null,
   "id": "16ea85ed-1aad-45cb-b7a9-88c6e82d7d60",
   "metadata": {},
   "outputs": [],
   "source": [
    "scatterCluster(cluster_history[1], centroid_history[1], title=\"Iteration 1\")"
   ]
  },
  {
   "cell_type": "code",
   "execution_count": null,
   "id": "55032c0a-ae5c-49c1-ab74-9b692719c9d0",
   "metadata": {},
   "outputs": [],
   "source": [
    "scatterCluster(cluster_history[2], centroid_history[2], title=\"Iteration 2\")"
   ]
  },
  {
   "cell_type": "code",
   "execution_count": null,
   "id": "eb28cc29-a8f9-408f-9a0d-7645e1664971",
   "metadata": {},
   "outputs": [],
   "source": [
    "scatterCluster(cluster_history[3], centroid_history[3], title=\"Iteration 3\")"
   ]
  },
  {
   "cell_type": "code",
   "execution_count": null,
   "id": "6f691a3f-bab8-4b0b-aa88-c300807f492c",
   "metadata": {},
   "outputs": [],
   "source": [
    "scatterCluster(cluster_history[-1], centroid_history[-1], title=\"Result\")"
   ]
  },
  {
   "cell_type": "code",
   "execution_count": null,
   "id": "8a1bfec8-2dcc-46ea-bf09-6fd76bd296c7",
   "metadata": {},
   "outputs": [],
   "source": [
    "plotValues(data=lossData, xLabel=\"# of iteration\", yLabel=\"Loss Value\", title=\"K = \" + str(k))"
   ]
  },
  {
   "cell_type": "code",
   "execution_count": null,
   "id": "4249b6ef-fc55-41df-89ed-f4d137d9443c",
   "metadata": {},
   "outputs": [],
   "source": [
    "kmCircles = KMeans(\n",
    "    n_clusters=k, init=centroid_history[0],\n",
    "    n_init=1, max_iter=300,\n",
    "    tol=0.0001,\n",
    "    random_state=0\n",
    ")\n",
    "kmCircles.fit_predict(dataCircle)"
   ]
  },
  {
   "cell_type": "code",
   "execution_count": null,
   "id": "0c0c60c3-e324-4ab6-a605-b47657c3b536",
   "metadata": {},
   "outputs": [],
   "source": [
    "scatterCluster(cluster_history[-1], centroid_history[-1], title='kMeans Implementation Result')\n"
   ]
  },
  {
   "cell_type": "code",
   "execution_count": null,
   "id": "3a9f8bbd-e571-492a-bb92-c2b62e363483",
   "metadata": {},
   "outputs": [],
   "source": [
    "scatterScikitsResult(kmCircles.labels_, kmCircles.cluster_centers_,dataCircle)"
   ]
  },
  {
   "cell_type": "code",
   "execution_count": null,
   "id": "44a26fbb-c73b-49b1-b1c9-3e1fa7ea43e3",
   "metadata": {},
   "outputs": [],
   "source": [
    "allLossesCircle, bestK, averageSiCoeffCircle = findBestK(dataCircle, max_Kvalue= max_K_val)"
   ]
  },
  {
   "cell_type": "code",
   "execution_count": null,
   "id": "49b2d2a1-defe-48a2-a403-9211012dfed6",
   "metadata": {},
   "outputs": [],
   "source": [
    "plotValues(data=allLossesCircle, xAxis=[int(x+1) for x in range(max_K_val)],xLabel=\"K Value\", yLabel=\"Loss Value\",title=\"K vs Loss Value\")"
   ]
  },
  {
   "cell_type": "code",
   "execution_count": null,
   "id": "1190c277-d9ee-46b3-bdcf-494a6f41812b",
   "metadata": {},
   "outputs": [],
   "source": [
    "plotValues(data=averageSiCoeffCircle, xAxis=[int(x) for x in range(2,max_K_val+1)],xLabel=\"K Value\", yLabel=\"Silhouette Coeff\",title=\"K vs Silhouette Value\")"
   ]
  },
  {
   "cell_type": "code",
   "execution_count": null,
   "id": "9a38e6df-cab3-4712-b5d2-f1007e86fc93",
   "metadata": {},
   "outputs": [],
   "source": []
  }
 ],
 "metadata": {
  "kernelspec": {
   "display_name": "Python 3 (ipykernel)",
   "language": "python",
   "name": "python3"
  },
  "language_info": {
   "codemirror_mode": {
    "name": "ipython",
    "version": 3
   },
   "file_extension": ".py",
   "mimetype": "text/x-python",
   "name": "python",
   "nbconvert_exporter": "python",
   "pygments_lexer": "ipython3",
   "version": "3.9.5"
  }
 },
 "nbformat": 4,
 "nbformat_minor": 5
}
